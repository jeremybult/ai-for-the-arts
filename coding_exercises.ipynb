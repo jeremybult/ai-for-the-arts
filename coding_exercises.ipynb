{
 "cells": [
  {
   "cell_type": "code",
   "execution_count": null,
   "id": "edee5ee4",
   "metadata": {},
   "outputs": [],
   "source": [
    "print(\"Hello, World!\")\n"
   ]
  },
  {
   "cell_type": "markdown",
   "id": "ced2f53f",
   "metadata": {},
   "source": [
    "# Jupyter Notebook file\n",
    "\n",
    "- I aim to be more skilled at programming with this platform\n",
    "    - I aim to show my understanding of the markdown format\n",
    "- I aim to be able todo this alone after the course"
   ]
  },
  {
   "cell_type": "markdown",
   "id": "914a02a5",
   "metadata": {},
   "source": [
    "# Copilot Printing\n",
    "\n",
    "Prompt:  “Could you suggest a python code for ‘Hello, world!’ to demonstrate the concept of printing to a complete beginner in programming? Please explain the code step-by-step highlighting any key aspects.”\n",
    "\n",
    "## Learning outcomes\n",
    "\n",
    "- Microsoft Copilot and Github Copilot are not the same\n",
    "    - Github Copilot is limited to 2000 code completions and 50 chat messages\n",
    "- Copilot is a great tool for new programmers with the step by step instructions and scope of use with other platforms"
   ]
  },
  {
   "cell_type": "code",
   "execution_count": 1,
   "id": "b6387763",
   "metadata": {},
   "outputs": [
    {
     "name": "stdout",
     "output_type": "stream",
     "text": [
      "Hello, world!\n"
     ]
    }
   ],
   "source": [
    "print(\"Hello, world!\")\n"
   ]
  },
  {
   "cell_type": "markdown",
   "id": "d3891d20",
   "metadata": {},
   "source": [
    "# Hello, world!\n",
    "\n",
    "This exercise is my first attempt at coding, the expected outcome is a better understnding of how to write and run code in Github codespace\n"
   ]
  }
 ],
 "metadata": {
  "kernelspec": {
   "display_name": "Python 3",
   "language": "python",
   "name": "python3"
  },
  "language_info": {
   "codemirror_mode": {
    "name": "ipython",
    "version": 3
   },
   "file_extension": ".py",
   "mimetype": "text/x-python",
   "name": "python",
   "nbconvert_exporter": "python",
   "pygments_lexer": "ipython3",
   "version": "3.12.1"
  }
 },
 "nbformat": 4,
 "nbformat_minor": 5
}
