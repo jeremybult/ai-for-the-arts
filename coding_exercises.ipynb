{
 "cells": [
  {
   "cell_type": "code",
   "execution_count": null,
   "id": "edee5ee4",
   "metadata": {
    "vscode": {
     "languageId": "plaintext"
    }
   },
   "outputs": [],
   "source": [
    "print(\"Hello, World!\")\n"
   ]
  },
  {
   "cell_type": "markdown",
   "id": "ced2f53f",
   "metadata": {},
   "source": [
    "# Jupyter Notebook file\n",
    "\n",
    "- I aim to be more skilled at programming with this platform\n",
    "    - I aim to show my understanding of the markdown format\n",
    "- I aim to be able todo this alone after the course"
   ]
  },
  {
   "cell_type": "markdown",
   "id": "d3891d20",
   "metadata": {},
   "source": [
    "# Hello, world!\n",
    "\n",
    "This exercise is my first attempt at coding, the expected outcome is a better understnding of how to write and run code in Github codespace\n"
   ]
  }
 ],
 "metadata": {
  "language_info": {
   "name": "python"
  }
 },
 "nbformat": 4,
 "nbformat_minor": 5
}
