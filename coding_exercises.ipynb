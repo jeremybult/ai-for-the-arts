{
 "cells": [
  {
   "cell_type": "markdown",
   "id": "ced2f53f",
   "metadata": {},
   "source": [
    "# Jupyter Notebook file\n",
    "\n",
    "- I aim to be more skilled at programming with this platform\n",
    "    - I aim to show my understanding of the markdown format\n",
    "- I aim to be able todo this alone after the course"
   ]
  },
  {
   "cell_type": "markdown",
   "id": "914a02a5",
   "metadata": {},
   "source": [
    "# Copilot Printing\n",
    "\n",
    "Prompt:  “Could you suggest a python code for ‘Hello, world!’ to demonstrate the concept of printing to a complete beginner in programming? Please explain the code step-by-step highlighting any key aspects.”\n",
    "\n",
    "## Learning outcomes\n",
    "\n",
    "- Microsoft Copilot and Github Copilot are not the same\n",
    "    - Github Copilot is limited to 2000 code completions and 50 chat messages\n",
    "- Copilot is a great tool for new programmers with the step by step instructions and scope of use with other platforms"
   ]
  },
  {
   "cell_type": "code",
   "execution_count": 1,
   "id": "b6387763",
   "metadata": {},
   "outputs": [
    {
     "name": "stdout",
     "output_type": "stream",
     "text": [
      "Hello, world!\n"
     ]
    }
   ],
   "source": [
    "print(\"Hello, world!\")\n"
   ]
  },
  {
   "cell_type": "markdown",
   "id": "d3891d20",
   "metadata": {},
   "source": [
    "# Hello, world!\n",
    "\n",
    "This exercise is my first attempt at coding, the expected outcome is a better understnding of how to write and run code in Github codespace\n"
   ]
  },
  {
   "cell_type": "markdown",
   "id": "4587d0f3",
   "metadata": {},
   "source": [
    "# Copilot Prompts\n",
    "\n",
    "## Variables\n",
    "- Blocks of data that store a variety of data \n",
    "    - Example: Integers, floats, strings,lists"
   ]
  },
  {
   "cell_type": "code",
   "execution_count": 1,
   "id": "a3fd25e6",
   "metadata": {},
   "outputs": [
    {
     "name": "stdout",
     "output_type": "stream",
     "text": [
      "Fruits: ['apple', 'banana', 'cherry']\n"
     ]
    }
   ],
   "source": [
    "fruits = [\"apple\", \"banana\", \"cherry\"]\n",
    "print(\"Fruits:\", fruits)\n"
   ]
  },
  {
   "cell_type": "markdown",
   "id": "17ed4e3a",
   "metadata": {},
   "source": [
    "## Functions\n",
    "\n",
    "- reusable blocks of code to perform a specific task\n",
    "    - to execute a function you call it by its name folled by parenthesis"
   ]
  },
  {
   "cell_type": "code",
   "execution_count": 2,
   "id": "25b1cce6",
   "metadata": {},
   "outputs": [
    {
     "name": "stdout",
     "output_type": "stream",
     "text": [
      "The sum is: 8\n"
     ]
    }
   ],
   "source": [
    "def add(a, b):\n",
    "    return a + b\n",
    "\n",
    "result = add(3, 5)\n",
    "print(\"The sum is:\", result)\n"
   ]
  },
  {
   "cell_type": "markdown",
   "id": "4d5a5abc",
   "metadata": {},
   "source": [
    "## Loops\n",
    "\n",
    "- Loops are used to repeat blocks of code \n",
    "    - Fundemental for repitition actions"
   ]
  },
  {
   "cell_type": "code",
   "execution_count": 3,
   "id": "0d53c7e0",
   "metadata": {},
   "outputs": [
    {
     "name": "stdout",
     "output_type": "stream",
     "text": [
      "Hello, world!\n",
      "Hello, world!\n",
      "Hello, world!\n",
      "Hello, world!\n",
      "Hello, world!\n"
     ]
    }
   ],
   "source": [
    "for i in range(5):\n",
    "    print(\"Hello, world!\")\n"
   ]
  },
  {
   "cell_type": "markdown",
   "id": "17c4819e",
   "metadata": {},
   "source": [
    "## Lists\n",
    "\n",
    "- Lists are a fundamental data structure in Python that allow you to store multiple items in a single variable. They are versatile and can contain items of different data types.\n"
   ]
  },
  {
   "cell_type": "code",
   "execution_count": 4,
   "id": "949a952b",
   "metadata": {},
   "outputs": [
    {
     "name": "stdout",
     "output_type": "stream",
     "text": [
      "Message 1: Hello, world!\n",
      "Message 2: Hi there!\n",
      "Message 3: Greetings!\n",
      "Message 4: Salutations!\n",
      "Message 5: Howdy!\n"
     ]
    }
   ],
   "source": [
    "messages = [\"Hello, world!\", \"Hi there!\", \"Greetings!\", \"Salutations!\", \"Howdy!\"]\n",
    "for index in range(len(messages)):\n",
    "    print(f\"Message {index + 1}: {messages[index]}\")\n"
   ]
  },
  {
   "cell_type": "markdown",
   "id": "521a3ee6",
   "metadata": {},
   "source": [
    "## Data Structures- Dictionarys\n",
    "\n",
    "- Dictionaries are a fundamental data structure in Python that allow you to store data in key-value pairs. They are useful for mapping and retrieving data efficiently.\n",
    "    - Looping Through Dictionaries: The for loop can be used with the .items() method to iterate over the key-value pairs in a dictionary.\n",
    "    - Key-Value Pairs: Each key in a dictionary maps to a specific value, allowing you to store and access related data together.\n",
    "    - F-Strings: F-strings make it easy to create dynamic strings by embedding expressions inside string literals."
   ]
  },
  {
   "cell_type": "code",
   "execution_count": 5,
   "id": "20792c07",
   "metadata": {},
   "outputs": [
    {
     "name": "stdout",
     "output_type": "stream",
     "text": [
      "In English (formal), we say: Hello, world!\n",
      "In English (informal), we say: Hi, world!\n",
      "In Spanish (formal), we say: ¡Hola, mundo!\n",
      "In Spanish (informal), we say: ¡Qué tal, mundo!\n",
      "In French (formal), we say: Bonjour, le monde!\n",
      "In French (informal), we say: Salut, le monde!\n"
     ]
    }
   ],
   "source": [
    "greetings = {\n",
    "    \"English\": {\"formal\": \"Hello, world!\", \"informal\": \"Hi, world!\"},\n",
    "    \"Spanish\": {\"formal\": \"¡Hola, mundo!\", \"informal\": \"¡Qué tal, mundo!\"},\n",
    "    \"French\": {\"formal\": \"Bonjour, le monde!\", \"informal\": \"Salut, le monde!\"},\n",
    "}\n",
    "\n",
    "for language, types in greetings.items():\n",
    "    for formality, greeting in types.items():\n",
    "        print(f\"In {language} ({formality}), we say: {greeting}\")\n"
   ]
  },
  {
   "cell_type": "markdown",
   "id": "04b8f73d",
   "metadata": {},
   "source": [
    "## Data Structures- Arrays\n",
    "\n",
    "- Arrays are a collection of items stored in a specific order. They are similar to lists but can be more efficient for certain types of data.\n",
    "    - Array Module: The array module provides a way to create arrays with specific data types, which can be more memory-efficient than lists.\n",
    "    - Looping Through Arrays: The for loop is commonly used to iterate over the items in an array, allowing you to perform actions on each item.\n",
    "    - Loop Variable: The loop variable (message in this case) takes on each value in the array during each iteration, making it easy to access and manipulate array items."
   ]
  },
  {
   "cell_type": "code",
   "execution_count": 6,
   "id": "fe44ef4d",
   "metadata": {},
   "outputs": [
    {
     "name": "stdout",
     "output_type": "stream",
     "text": [
      "Number: 1\n",
      "Number: 2\n",
      "Number: 3\n",
      "Number: 4\n",
      "Number: 5\n"
     ]
    }
   ],
   "source": [
    "import array\n",
    "\n",
    "# Create an array of type 'i' (signed integers)\n",
    "numbers = array.array('i', [1, 2, 3, 4, 5])\n",
    "\n",
    "for number in numbers:\n",
    "    print(f\"Number: {number}\")\n"
   ]
  }
 ],
 "metadata": {
  "kernelspec": {
   "display_name": "Python 3",
   "language": "python",
   "name": "python3"
  },
  "language_info": {
   "codemirror_mode": {
    "name": "ipython",
    "version": 3
   },
   "file_extension": ".py",
   "mimetype": "text/x-python",
   "name": "python",
   "nbconvert_exporter": "python",
   "pygments_lexer": "ipython3",
   "version": "3.12.1"
  }
 },
 "nbformat": 4,
 "nbformat_minor": 5
}
