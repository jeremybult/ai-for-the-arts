{
 "cells": [
  {
   "cell_type": "markdown",
   "id": "70f406d6",
   "metadata": {},
   "source": [
    "# When Scikit-Learn Datasets Meet Pandas \n",
    "\n",
    "## Exploring the Wine Dataset from scikit‑learn\n",
    "\n",
    "**Dataset Chosen:**  \n",
    "I chose the **Wine dataset** because it is a classic multiclass classification dataset that contains chemical analysis data of wines from the same region in Italy. The dataset includes various features such as alcohol content, malic acid, ash, and others, which are used to differentiate wines produced from three different cultivars. This makes it ideal for exploring feature relationships, data visualization, and classification tasks. Moreover, the Wine dataset provides a practical example to understand how chemical properties can influence wine quality and classification outcomes.\n"
   ]
  },
  {
   "cell_type": "code",
   "execution_count": 1,
   "id": "9fefc9ab",
   "metadata": {},
   "outputs": [
    {
     "name": "stdout",
     "output_type": "stream",
     "text": [
      "   alcohol  malic_acid   ash  alcalinity_of_ash  magnesium  total_phenols  \\\n",
      "0    14.23        1.71  2.43               15.6      127.0           2.80   \n",
      "1    13.20        1.78  2.14               11.2      100.0           2.65   \n",
      "2    13.16        2.36  2.67               18.6      101.0           2.80   \n",
      "3    14.37        1.95  2.50               16.8      113.0           3.85   \n",
      "4    13.24        2.59  2.87               21.0      118.0           2.80   \n",
      "\n",
      "   flavanoids  nonflavanoid_phenols  proanthocyanins  color_intensity   hue  \\\n",
      "0        3.06                  0.28             2.29             5.64  1.04   \n",
      "1        2.76                  0.26             1.28             4.38  1.05   \n",
      "2        3.24                  0.30             2.81             5.68  1.03   \n",
      "3        3.49                  0.24             2.18             7.80  0.86   \n",
      "4        2.69                  0.39             1.82             4.32  1.04   \n",
      "\n",
      "   od280/od315_of_diluted_wines  proline  target  \n",
      "0                          3.92   1065.0       0  \n",
      "1                          3.40   1050.0       0  \n",
      "2                          3.17   1185.0       0  \n",
      "3                          3.45   1480.0       0  \n",
      "4                          2.93    735.0       0  \n"
     ]
    }
   ],
   "source": [
    "import pandas as pd\n",
    "from sklearn.datasets import load_wine\n",
    "\n",
    "# Load the Wine dataset from scikit-learn\n",
    "wine = load_wine()\n",
    "\n",
    "# Create a Pandas DataFrame from the dataset\n",
    "df = pd.DataFrame(data=wine.data, columns=wine.feature_names)\n",
    "\n",
    "# Add the target variable to the DataFrame\n",
    "df['target'] = wine.target\n",
    "\n",
    "# Display the first few rows of the DataFrame\n",
    "print(df.head())\n"
   ]
  },
  {
   "cell_type": "markdown",
   "id": "b0a5837b",
   "metadata": {},
   "source": [
    "  \n",
    "I chose the **Wine dataset** because it is a classic multiclass classification dataset that contains chemical analysis data of wines from the same region in Italy. The dataset includes various features such as alcohol content, malic acid, ash, and others, which are used to differentiate wines produced from three different cultivars. This makes it ideal for exploring feature relationships, data visualization, and classification tasks. Moreover, the Wine dataset provides a practical example to understand how chemical properties can influence wine quality and classification outcomes.\n",
    "\"\"\"\n",
    "\n",
    "# Markdown text for learning outcomes and follow‑on prompts.\n",
    "markdown_learning_takeaways = \"\"\"\n",
    "# Learning Outcomes and Follow‑on Prompts\n",
    "\n",
    "**What I Learned:**\n",
    "- **Scikit‑Learn & Pandas Integration:**  \n",
    "  - Learned how to load datasets from scikit‑learn into a Pandas DataFrame.\n",
    "  - Became familiar with accessing data features and the target variable.\n",
    "- **DataFrame Creation:**  \n",
    "  - Discovered how to create a DataFrame with appropriate column names based on dataset features.\n",
    "  - Practiced adding a target variable to the DataFrame and viewing the data.\n",
    "- **Data Exploration:**  \n",
    "  - Used methods like `head()` to review the dataset and understand its structure.\n",
    "\n",
    "**Ambiguous Terms/Further Questions:**\n",
    "- What are the subtleties between different scikit‑learn dataset structures?\n",
    "- How can additional metadata be incorporated to better understand a dataset’s context?\n",
    "\n",
    "**Follow‑on Prompts to Explore:**\n",
    "- \"Explain how to handle missing data in Pandas DataFrames using different methods.\"\n",
    "- \"Discuss the differences between various scaling techniques when applied to datasets.\"\n",
    "\"\"\"\n",
    "\n"
   ]
  }
 ],
 "metadata": {
  "kernelspec": {
   "display_name": "Python 3",
   "language": "python",
   "name": "python3"
  },
  "language_info": {
   "codemirror_mode": {
    "name": "ipython",
    "version": 3
   },
   "file_extension": ".py",
   "mimetype": "text/x-python",
   "name": "python",
   "nbconvert_exporter": "python",
   "pygments_lexer": "ipython3",
   "version": "3.12.1"
  }
 },
 "nbformat": 4,
 "nbformat_minor": 5
}
